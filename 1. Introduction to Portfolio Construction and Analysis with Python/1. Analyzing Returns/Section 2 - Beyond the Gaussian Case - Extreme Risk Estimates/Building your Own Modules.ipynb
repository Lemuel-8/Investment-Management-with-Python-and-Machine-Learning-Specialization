{
 "cells": [
  {
   "cell_type": "markdown",
   "id": "53d0a7e0-88ab-4bbc-a13e-5d39e0a2bbff",
   "metadata": {},
   "source": [
    "# Building Modules"
   ]
  },
  {
   "cell_type": "markdown",
   "id": "fbfbddcc-8234-4292-9fe5-682f40ab82dd",
   "metadata": {},
   "source": [
    "We have already been working with modules because we said something like import pandas as pd, and then we found out that we could use the functionality within panda.\n",
    "\n",
    "So for example, we could say pd.to_datetime, right? To_datetime was a function that we were able to call because we had imported pandas as pd. What is really going on here? The way you should think about a module in Python is it's really conceptually not very much more than a file that has Python code in it. You can access that code by doing the import. \n",
    "\n",
    "Let's try to create an own module. The way we'll do this is just by creating a new file. So I'm going to say, File, New, and I'm just going to open a Text file. Nothing more complicated than that, and I'm going to rename that file. We're going to rename that file to Hello.py. so now I'm going to put something very simple in here. So for example, I'm going to say message is assigned, \"Hello Jim\". And, I save that file and I go in here and I say, import hello as h. so now let's do h.message. "
   ]
  },
  {
   "cell_type": "code",
   "execution_count": 1,
   "id": "27a406a5-5d6b-41b5-ac7f-24a561a11133",
   "metadata": {},
   "outputs": [],
   "source": [
    "import pandas as pd"
   ]
  },
  {
   "cell_type": "code",
   "execution_count": 2,
   "id": "cfe4e5c9-7dc3-43d6-a6d0-8f78d1c0d2dd",
   "metadata": {},
   "outputs": [],
   "source": [
    "import hello as h"
   ]
  },
  {
   "cell_type": "code",
   "execution_count": 3,
   "id": "2ced94e8-992f-4a55-9533-77d35ed0ea87",
   "metadata": {},
   "outputs": [
    {
     "data": {
      "text/plain": [
       "'Hello Lemuel'"
      ]
     },
     "execution_count": 3,
     "metadata": {},
     "output_type": "execute_result"
    }
   ],
   "source": [
    "h.message"
   ]
  },
  {
   "cell_type": "code",
   "execution_count": 4,
   "id": "600f92f2-4837-48dd-8ec6-908af3664acc",
   "metadata": {},
   "outputs": [],
   "source": [
    "# If we want to update the module we need to do it so with those magic extensions\n",
    "%load_ext autoreload\n",
    "%autoreload 2"
   ]
  },
  {
   "cell_type": "code",
   "execution_count": 7,
   "id": "acc6bc1c-63b8-4fbd-8cd7-22fb2ca2f386",
   "metadata": {},
   "outputs": [
    {
     "data": {
      "text/plain": [
       "'Hello Lemuel and Julia'"
      ]
     },
     "execution_count": 7,
     "metadata": {},
     "output_type": "execute_result"
    }
   ],
   "source": [
    "# Then every change in the module will be recognized after saving the module\n",
    "h.message"
   ]
  },
  {
   "cell_type": "code",
   "execution_count": 8,
   "id": "bca2b841-9811-49cf-bd3a-45c59eab3468",
   "metadata": {},
   "outputs": [],
   "source": [
    "# We have created a module and we just need to import to access all into\n",
    "import edhec_risk_kit as erk"
   ]
  },
  {
   "cell_type": "code",
   "execution_count": 12,
   "id": "113cb7a3-9bce-4fdb-bd5b-9be1c9a76b9d",
   "metadata": {},
   "outputs": [
    {
     "data": {
      "text/html": [
       "<div>\n",
       "<style scoped>\n",
       "    .dataframe tbody tr th:only-of-type {\n",
       "        vertical-align: middle;\n",
       "    }\n",
       "\n",
       "    .dataframe tbody tr th {\n",
       "        vertical-align: top;\n",
       "    }\n",
       "\n",
       "    .dataframe thead th {\n",
       "        text-align: right;\n",
       "    }\n",
       "</style>\n",
       "<table border=\"1\" class=\"dataframe\">\n",
       "  <thead>\n",
       "    <tr style=\"text-align: right;\">\n",
       "      <th></th>\n",
       "      <th>SmallCap</th>\n",
       "      <th>LargeCap</th>\n",
       "    </tr>\n",
       "  </thead>\n",
       "  <tbody>\n",
       "    <tr>\n",
       "      <th>1926-07</th>\n",
       "      <td>-0.0145</td>\n",
       "      <td>0.0329</td>\n",
       "    </tr>\n",
       "    <tr>\n",
       "      <th>1926-08</th>\n",
       "      <td>0.0512</td>\n",
       "      <td>0.0370</td>\n",
       "    </tr>\n",
       "    <tr>\n",
       "      <th>1926-09</th>\n",
       "      <td>0.0093</td>\n",
       "      <td>0.0067</td>\n",
       "    </tr>\n",
       "    <tr>\n",
       "      <th>1926-10</th>\n",
       "      <td>-0.0484</td>\n",
       "      <td>-0.0243</td>\n",
       "    </tr>\n",
       "    <tr>\n",
       "      <th>1926-11</th>\n",
       "      <td>-0.0078</td>\n",
       "      <td>0.0270</td>\n",
       "    </tr>\n",
       "  </tbody>\n",
       "</table>\n",
       "</div>"
      ],
      "text/plain": [
       "         SmallCap  LargeCap\n",
       "1926-07   -0.0145    0.0329\n",
       "1926-08    0.0512    0.0370\n",
       "1926-09    0.0093    0.0067\n",
       "1926-10   -0.0484   -0.0243\n",
       "1926-11   -0.0078    0.0270"
      ]
     },
     "execution_count": 12,
     "metadata": {},
     "output_type": "execute_result"
    }
   ],
   "source": [
    "# Own function to get returns from Portfolios_Formed_on_Me_monthlty_EW.vcsv\n",
    "returns = erk.get_ffme_returns()\n",
    "returns.head()"
   ]
  },
  {
   "cell_type": "code",
   "execution_count": 13,
   "id": "69094d7e-a45f-48d2-8075-e0e9f9e3e80f",
   "metadata": {},
   "outputs": [
    {
     "data": {
      "text/plain": [
       "-0.8330007793945303"
      ]
     },
     "execution_count": 13,
     "metadata": {},
     "output_type": "execute_result"
    }
   ],
   "source": [
    "# Own function to get drawdown\n",
    "erk.drawdown(returns[\"SmallCap\"])[\"Drawdown\"].min()"
   ]
  },
  {
   "cell_type": "code",
   "execution_count": 15,
   "id": "d69c33de-35e1-4105-b732-4399c83d69ac",
   "metadata": {},
   "outputs": [
    {
     "data": {
      "text/plain": [
       "-0.6312068077252386"
      ]
     },
     "execution_count": 15,
     "metadata": {},
     "output_type": "execute_result"
    }
   ],
   "source": [
    "erk.drawdown(returns[\"1975\":][\"SmallCap\"])[\"Drawdown\"].min()"
   ]
  }
 ],
 "metadata": {
  "kernelspec": {
   "display_name": "Python 3",
   "language": "python",
   "name": "python3"
  },
  "language_info": {
   "codemirror_mode": {
    "name": "ipython",
    "version": 3
   },
   "file_extension": ".py",
   "mimetype": "text/x-python",
   "name": "python",
   "nbconvert_exporter": "python",
   "pygments_lexer": "ipython3",
   "version": "3.8.8"
  }
 },
 "nbformat": 4,
 "nbformat_minor": 5
}
